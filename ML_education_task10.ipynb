{
 "cells": [
  {
   "cell_type": "markdown",
   "id": "2e822436",
   "metadata": {},
   "source": [
    "***Задание 1.1***"
   ]
  },
  {
   "cell_type": "markdown",
   "id": "050e9385",
   "metadata": {},
   "source": [
    "Даны матрицы:\n",
    "$$\n",
    "\\\\\n",
    "A = \n",
    "\\begin{pmatrix}\n",
    "2 & -4 \\\\\n",
    "3 & 5 \\\\\n",
    "-1 & 0\n",
    "\\end{pmatrix}, \\quad\n",
    "B = \n",
    "\\begin{pmatrix}\n",
    "1 & 2 & 7 \\\\\n",
    "-3 & -4 & 0 \\\\\n",
    "5 & 2 & 1\n",
    "\\end{pmatrix}, \\quad\n",
    "C = \n",
    "\\begin{pmatrix}\n",
    "6 & -3 & 9 \\\\\n",
    "4 & -5 & 2 \\\\\n",
    "8 & 1 & 5\n",
    "\\end{pmatrix}\n",
    "\\\\\n",
    "$$\n",
    "Требуется найти матрицу \n",
    "$$\n",
    "\\\\\n",
    "D = A^\\top C - 2 A^\\top B^\\top.\n",
    "$$"
   ]
  },
  {
   "cell_type": "markdown",
   "id": "3a80dd10",
   "metadata": {},
   "source": [
    "1. Найдём транспонированную матрицу\n",
    "$$\n",
    "\\\\\n",
    "A^\\top = \n",
    "\\begin{pmatrix}\n",
    "2 & 3 & -1 \\\\\n",
    "-4 & 5 & 0\n",
    "\\end{pmatrix}\n",
    "$$"
   ]
  },
  {
   "cell_type": "markdown",
   "id": "27bdad21",
   "metadata": {},
   "source": [
    "2. Вычислим произведение\n",
    "$$\n",
    "A^\\top C = \n",
    "\\begin{pmatrix}\n",
    "2 & 3 & -1 \\\\\n",
    "-4 & 5 & 0\n",
    "\\end{pmatrix}\n",
    "\\begin{pmatrix}\n",
    "6 & -3 & 9 \\\\\n",
    "4 & -5 & 2 \\\\\n",
    "8 & 1 & 5\n",
    "\\end{pmatrix} =\n",
    "\\begin{pmatrix}\n",
    "34 & -20 & 37 \\\\\n",
    "-14 & -43 & -28\n",
    "\\end{pmatrix}\n",
    "$$"
   ]
  },
  {
   "cell_type": "markdown",
   "id": "1846b94f",
   "metadata": {},
   "source": [
    "3. Найдём транспонированную матрицу\n",
    "$$\n",
    "B^\\top = \n",
    "\\begin{pmatrix}\n",
    "1 & -3 & 5 \\\\\n",
    "2 & -4 & 2 \\\\\n",
    "7 & 0 & 1\n",
    "\\end{pmatrix}\n",
    "$$"
   ]
  },
  {
   "cell_type": "markdown",
   "id": "ee4b6167",
   "metadata": {},
   "source": [
    "4. Вычислим произведение\n",
    "$$\n",
    "A^\\top B^\\top = \n",
    "\\begin{pmatrix}\n",
    "2 & 3 & -1 \\\\\n",
    "-4 & 5 & 0\n",
    "\\end{pmatrix}\n",
    "\\begin{pmatrix}\n",
    "1 & -3 & 5 \\\\\n",
    "2 & -4 & 2 \\\\\n",
    "7 & 0 & 1\n",
    "\\end{pmatrix} =\n",
    "\\begin{pmatrix}\n",
    "-7 & -21 & 15 \\\\\n",
    "6 & -41 & 18\n",
    "\\end{pmatrix}\n",
    "$$"
   ]
  },
  {
   "cell_type": "markdown",
   "id": "7a741eb1",
   "metadata": {},
   "source": [
    "5. Умножим матрицу на 2\n",
    "$$\n",
    "2 A^\\top B^\\top = \n",
    "2 \\cdot\n",
    "\\begin{pmatrix}\n",
    "-7 & -21 & 15 \\\\\n",
    "6 & -41 & 18\n",
    "\\end{pmatrix} =\n",
    "\\begin{pmatrix}\n",
    "-14 & -42 & 30 \\\\\n",
    "12 & -82 & 36\n",
    "\\end{pmatrix}\n",
    "$$"
   ]
  },
  {
   "cell_type": "markdown",
   "id": "99d1a660",
   "metadata": {},
   "source": [
    "6. Найдём разность\n",
    "$$\n",
    "D = \n",
    "\\begin{pmatrix}\n",
    "34 & -20 & 37 \\\\\n",
    "-14 & -43 & -28\n",
    "\\end{pmatrix}\n",
    "-\n",
    "\\begin{pmatrix}\n",
    "-14 & -42 & 30 \\\\\n",
    "12 & -82 & 36\n",
    "\\end{pmatrix} =\n",
    "\\begin{pmatrix}\n",
    "48 & 22 & 7 \\\\\n",
    "-26 & 39 & -64\n",
    "\\end{pmatrix}\n",
    "$$"
   ]
  },
  {
   "cell_type": "markdown",
   "id": "f3ce7277",
   "metadata": {},
   "source": [
    "***Ответ***\n",
    "$$\n",
    "D = \n",
    "\\begin{pmatrix}\n",
    "48 & 22 & 7 \\\\\n",
    "-26 & 39 & -64\n",
    "\\end{pmatrix}\n",
    "$$"
   ]
  },
  {
   "cell_type": "markdown",
   "id": "562ecbc7",
   "metadata": {},
   "source": [
    "***Задание 1.2***"
   ]
  },
  {
   "cell_type": "markdown",
   "id": "b5eaafc8",
   "metadata": {},
   "source": [
    "Дано выражение:\n",
    "$$\n",
    "3 \\cdot \n",
    "\\begin{pmatrix}\n",
    "x & 2 & 3 \\\\\n",
    "-1 & y & 4\n",
    "\\end{pmatrix}\n",
    "+ 2 \\cdot \n",
    "\\begin{pmatrix}\n",
    "1 & 2 & -5 \\\\\n",
    "2 & -6 & z\n",
    "\\end{pmatrix}\n",
    "=\n",
    "\\begin{pmatrix}\n",
    "8 & v & -1 \\\\\n",
    "1 & 6 & 4\n",
    "\\end{pmatrix}\n",
    "$$\n",
    "\n",
    "Найдём значения, при которых выражение верно."
   ]
  },
  {
   "cell_type": "markdown",
   "id": "8fe34efc",
   "metadata": {},
   "source": [
    "1. Умножим первую матрицу на 3:\n",
    "$$\n",
    "3 \\cdot \n",
    "\\begin{pmatrix}\n",
    "x & 2 & 3 \\\\\n",
    "-1 & y & 4\n",
    "\\end{pmatrix}\n",
    "=\n",
    "\\begin{pmatrix}\n",
    "3x & 6 & 9 \\\\\n",
    "-3 & 3y & 12\n",
    "\\end{pmatrix}\n",
    "$$"
   ]
  },
  {
   "cell_type": "markdown",
   "id": "276e81b2",
   "metadata": {},
   "source": [
    "2. Умножим вторую матрицу на 2:\n",
    "$$\n",
    "2 \\cdot \n",
    "\\begin{pmatrix}\n",
    "1 & 2 & -5 \\\\\n",
    "2 & -6 & z\n",
    "\\end{pmatrix}\n",
    "=\n",
    "\\begin{pmatrix}\n",
    "2 & 4 & -10 \\\\\n",
    "4 & -12 & 2z\n",
    "\\end{pmatrix}\n",
    "$$"
   ]
  },
  {
   "cell_type": "markdown",
   "id": "4edf4a49",
   "metadata": {},
   "source": [
    "3. Сложим обе матрицы:\n",
    "$$\n",
    "\\begin{pmatrix}\n",
    "3x & 6 & 9 \\\\\n",
    "-3 & 3y & 12\n",
    "\\end{pmatrix}\n",
    "+\n",
    "\\begin{pmatrix}\n",
    "2 & 4 & -10 \\\\\n",
    "4 & -12 & 2z\n",
    "\\end{pmatrix}\n",
    "=\n",
    "\\begin{pmatrix}\n",
    "3x + 2 & 10 & -1 \\\\\n",
    "1 & 3y - 12 & 12 + 2z\n",
    "\\end{pmatrix}\n",
    "$$"
   ]
  },
  {
   "cell_type": "markdown",
   "id": "977507b2",
   "metadata": {},
   "source": [
    "4. Приравняем к результирующей матрице:\n",
    "$$\n",
    "\\begin{pmatrix}\n",
    "3x + 2 & 10 & -1 \\\\\n",
    "1 & 3y - 12 & 12 + 2z\n",
    "\\end{pmatrix}\n",
    "=\n",
    "\\begin{pmatrix}\n",
    "8 & v & -1 \\\\\n",
    "1 & 6 & 4\n",
    "\\end{pmatrix}\n",
    "$$\n",
    "\n",
    "Получаем систему уравнений:\n",
    "$$\n",
    "\\begin{cases}\n",
    "3x + 2 = 8, \\\\\n",
    "10 = v, \\\\\n",
    "-1 = -1, \\\\\n",
    "1 = 1, \\\\\n",
    "3y - 12 = 6, \\\\\n",
    "12 + 2z = 4.\n",
    "\\end{cases}\n",
    "$$"
   ]
  },
  {
   "cell_type": "markdown",
   "id": "5cd89427",
   "metadata": {},
   "source": [
    "5. Решим систему уравнений:\n",
    "$$\n",
    "\\begin{cases}\n",
    "3x + 2 = 8 \\implies 3x = 6 \\implies x = 2, \\\\\n",
    "v = 10, \\\\\n",
    "3y - 12 = 6 \\implies 3y = 18 \\implies y = 6, \\\\\n",
    "12 + 2z = 4 \\implies 2z = -8 \\implies z = -4.\n",
    "\\end{cases}\n",
    "$$"
   ]
  },
  {
   "cell_type": "markdown",
   "id": "cf305993",
   "metadata": {},
   "source": [
    "***Ответ***\n",
    "$$\n",
    "x = 2, \\quad y = 6, \\quad z = -4, \\quad v = 10.\n",
    "$$"
   ]
  },
  {
   "cell_type": "markdown",
   "id": "2b900e5e",
   "metadata": {},
   "source": [
    "***Задание 1.3***"
   ]
  },
  {
   "cell_type": "markdown",
   "id": "5b085fa9",
   "metadata": {},
   "source": [
    "Даны векторы:\n",
    "$$\n",
    "a_1 = \n",
    "\\begin{pmatrix}\n",
    "2 \\\\\n",
    "-5\n",
    "\\end{pmatrix}, \\quad\n",
    "a_2 = \n",
    "\\begin{pmatrix}\n",
    "-1 \\\\\n",
    "3\n",
    "\\end{pmatrix}, \\quad\n",
    "x = \n",
    "\\begin{pmatrix}\n",
    "1 \\\\\n",
    "-4\n",
    "\\end{pmatrix}.\n",
    "$$"
   ]
  },
  {
   "cell_type": "markdown",
   "id": "2856ebd3",
   "metadata": {},
   "source": [
    "$$\n",
    "\\text{Примем векторы \\(a_1\\), \\(a_2\\) за новый базис \\(B\\). Проверим их линейную независимость и решим задачи.}\\\\\n",
    "\\text{(a) Найдём координаты \\([x]_B\\) вектора \\(x\\) в новом базисе.}\n",
    "\\\\\n",
    "\\text{Для этого представим \\(x\\) как линейную комбинацию \\(a_1\\) и \\(a_2\\):}\\\\\n",
    "x = c_1 a_1 + c_2 a_2,\n",
    "\\text{где \\(c_1\\) и \\(c_2\\) — коэффициенты, равные координатам вектора \\(x\\) в базисе \\(B\\), то есть \\([x]_B = \\begin{pmatrix} c_1 \\\\ c_2 \\end{pmatrix}\\)}\n",
    "$$"
   ]
  },
  {
   "cell_type": "markdown",
   "id": "607ff874",
   "metadata": {},
   "source": [
    "Подставим значения:\n",
    "$$\n",
    "\\begin{pmatrix}\n",
    "1 \\\\\n",
    "-4\n",
    "\\end{pmatrix}\n",
    "=\n",
    "c_1\n",
    "\\begin{pmatrix}\n",
    "2 \\\\\n",
    "-5\n",
    "\\end{pmatrix}\n",
    "+\n",
    "c_2\n",
    "\\begin{pmatrix}\n",
    "-1 \\\\\n",
    "3\n",
    "\\end{pmatrix}\n",
    "$$"
   ]
  },
  {
   "cell_type": "markdown",
   "id": "3d5361e6",
   "metadata": {},
   "source": [
    "Запишем систему уравнений:\n",
    "$$\n",
    "\\begin{cases}\n",
    "2c_1 - c_2 = 1, \\\\\n",
    "-5c_1 + 3c_2 = -4.\n",
    "\\end{cases}\n",
    "$$"
   ]
  },
  {
   "cell_type": "markdown",
   "id": "21e9dd0a",
   "metadata": {},
   "source": [
    "Решим систему. Из первого уравнения:\n",
    "$$\n",
    "c_2 = 2c_1 - 1\n",
    "$$"
   ]
  },
  {
   "cell_type": "markdown",
   "id": "ea550998",
   "metadata": {},
   "source": [
    "Подставим во второе уравнение:\n",
    "$$\n",
    "-5c_1 + 3(2c_1 - 1) = -4 \\implies\n",
    "-5c_1 + 6c_1 - 3 = -4 \\implies\n",
    "c_1 = -1\n",
    "$$"
   ]
  },
  {
   "cell_type": "markdown",
   "id": "f2387cc5",
   "metadata": {},
   "source": [
    "Найдем c2\n",
    "$$\n",
    "c_2 = 2(-1) - 1 = -3\n",
    "$$"
   ]
  },
  {
   "cell_type": "markdown",
   "id": "24ae2547",
   "metadata": {},
   "source": [
    "Таким образом\n",
    "$$\n",
    "[x]_B = \n",
    "\\begin{pmatrix}\n",
    "-1 \\\\\n",
    "-3\n",
    "\\end{pmatrix}\n",
    "$$"
   ]
  },
  {
   "cell_type": "markdown",
   "id": "580d7105",
   "metadata": {},
   "source": [
    "$$\n",
    "\\text{(b) Найдём координаты вектора \\(y\\) в стандартном базисе.}\\\\\n",
    "\\text{Даны координаты вектора \\(y\\) в базисе \\(B\\): \\([y]_B = \\begin{pmatrix} 1 \\\\ 1 \\end{pmatrix}\\). В стандартном базисе:}\\\\\n",
    "y = 1 \\cdot a_1 + 1 \\cdot a_2 = \n",
    "\\begin{pmatrix}\n",
    "2 \\\\\n",
    "-5\n",
    "\\end{pmatrix}\n",
    "+\n",
    "\\begin{pmatrix}\n",
    "-1 \\\\\n",
    "3\n",
    "\\end{pmatrix}\n",
    "$$"
   ]
  },
  {
   "cell_type": "markdown",
   "id": "3253f8a8",
   "metadata": {},
   "source": [
    "Сложим векторы:\n",
    "$$\n",
    "y = \n",
    "\\begin{pmatrix}\n",
    "2 - 1 \\\\\n",
    "-5 + 3\n",
    "\\end{pmatrix}\n",
    "=\n",
    "\\begin{pmatrix}\n",
    "1 \\\\\n",
    "-2\n",
    "\\end{pmatrix}\n",
    "$$"
   ]
  },
  {
   "cell_type": "markdown",
   "id": "08a0c945",
   "metadata": {},
   "source": [
    "***Ответ***\n",
    "$$\n",
    "(a) \\ [x]_B = \n",
    "\\begin{pmatrix}\n",
    "-1 \\\\\n",
    "-3\n",
    "\\end{pmatrix}, \\quad\n",
    "(b) \\ y = \n",
    "\\begin{pmatrix}\n",
    "1 \\\\\n",
    "-2\n",
    "\\end{pmatrix}\n",
    "$$"
   ]
  },
  {
   "cell_type": "markdown",
   "id": "d5d5a729",
   "metadata": {},
   "source": [
    "***Задание 1.4***"
   ]
  },
  {
   "cell_type": "code",
   "execution_count": 16,
   "id": "7dc4f698",
   "metadata": {},
   "outputs": [
    {
     "data": {
      "image/png": "[encoded data removed]",
      "text/plain": [
       "<Figure size 720x432 with 1 Axes>"
      ]
     },
     "metadata": {
      "needs_background": "light"
     },
     "output_type": "display_data"
    }
   ],
   "source": [
    "import numpy as np\n",
    "import matplotlib.pyplot as plt\n",
    "\n",
    "# 1. Генерация случайной квадратной матрицы\n",
    "n = 100  # размерность матрицы\n",
    "A = np.random.rand(n, n)\n",
    "\n",
    "# 2. Выполнение SVD-разложения\n",
    "U, S, VT = np.linalg.svd(A)\n",
    "\n",
    "# 3. Подготовка для низкоранговой аппроксимации\n",
    "errors = []\n",
    "ranks = range(2, n + 1)\n",
    "\n",
    "for r in ranks:\n",
    "    # Оставляем только первые r сингулярных значений\n",
    "    Ur = U[:, :r]\n",
    "    Sr = np.diag(S[:r])\n",
    "    VTr = VT[:r, :]\n",
    "    \n",
    "    # Низкоранговая аппроксимация\n",
    "    A_approx = Ur @ Sr @ VTr\n",
    "    \n",
    "    # Вычисление ошибки (норма Фробениуса)\n",
    "    error = np.linalg.norm(A - A_approx, ord='fro')\n",
    "    errors.append(error)\n",
    "\n",
    "# 4. Построение графика\n",
    "plt.figure(figsize=(10, 6))\n",
    "plt.plot(ranks, errors, marker='o')\n",
    "plt.title('Зависимость ошибки аппроксимации от ранга $r$')\n",
    "plt.xlabel('Ранг $r$')\n",
    "plt.ylabel('Ошибка аппроксимации $E(r)$')\n",
    "plt.grid(True)\n",
    "plt.show()"
   ]
  },
  {
   "cell_type": "markdown",
   "id": "57232445",
   "metadata": {},
   "source": [
    "***Задание 2.1***"
   ]
  },
  {
   "cell_type": "markdown",
   "id": "fd2b9fa5",
   "metadata": {},
   "source": [
    "Найдём градиент функции:\n",
    "$$\n",
    "f(x_1, x_2) = x_1^3 - 2x_1x_2 + x_2^2 - 3x_1 - 2x_2.\n",
    "$$\n",
    "Градиент функции задаётся как:\n",
    "$$\n",
    "\\nabla f(x_1, x_2) = \\left( \\frac{\\partial f}{\\partial x_1}, \\frac{\\partial f}{\\partial x_2} \\right).\n",
    "$$"
   ]
  },
  {
   "cell_type": "markdown",
   "id": "92d7ab22",
   "metadata": {},
   "source": [
    "1. Частная производная функции  f  по  x_1\n",
    "$$\n",
    "\\frac{\\partial f}{\\partial x_1} = 3x_1^2 - 2x_2 - 3.\n",
    "$$"
   ]
  },
  {
   "cell_type": "markdown",
   "id": "5da9afe4",
   "metadata": {},
   "source": [
    "2. Частная производная функции  f  по  x_2\n",
    "$$\n",
    "\\frac{\\partial f}{\\partial x_2} = -2x_1 + 2x_2 - 2.\n",
    "$$"
   ]
  },
  {
   "cell_type": "markdown",
   "id": "fa2ef49a",
   "metadata": {},
   "source": [
    "Таким образом, градиент:\n",
    "$$\n",
    "\\nabla f(x_1, x_2) = \\begin{pmatrix}\n",
    "3x_1^2 - 2x_2 - 3 \\\\\n",
    "-2x_1 + 2x_2 - 2\n",
    "\\end{pmatrix}\n",
    "$$"
   ]
  },
  {
   "cell_type": "markdown",
   "id": "bb5f93a9",
   "metadata": {},
   "source": [
    "3.\tНайдём критические точки, приравняв градиент к нулю:\n",
    "$$\n",
    "\\begin{cases}\n",
    "3x_1^2 - 2x_2 - 3 = 0, \\\\\n",
    "-2x_1 + 2x_2 - 2 = 0.\n",
    "\\end{cases}\n",
    "$$"
   ]
  },
  {
   "cell_type": "markdown",
   "id": "dc5977cb",
   "metadata": {},
   "source": [
    "Решая эту систему уравнений\n",
    "$$\n",
    "\\begin{cases}\n",
    "x_2 = \\frac{x_1 + 1}{2}, \\\\\n",
    "3x_1^2 - 2\\left(\\frac{x_1 + 1}{2}\\right) - 3 = 0.\n",
    "\\end{cases}\n",
    "$$"
   ]
  },
  {
   "cell_type": "markdown",
   "id": "3ceca2fa",
   "metadata": {},
   "source": [
    "Упростим второе уравнение\n",
    "$$\n",
    "3x_1^2 - x_1 - 1 - 3 = 0 \\implies 3x_1^2 - x_1 - 4 = 0.\n",
    "$$"
   ]
  },
  {
   "cell_type": "markdown",
   "id": "ef713e57",
   "metadata": {},
   "source": [
    "Решим квадратное уравнение\n",
    "$$\n",
    "x_1 = \\frac{-(-1) \\pm \\sqrt{(-1)^2 - 4 \\cdot 3 \\cdot (-4)}}{2 \\cdot 3} = \\frac{1 \\pm \\sqrt{49}}{6}.\n",
    "$$"
   ]
  },
  {
   "cell_type": "markdown",
   "id": "b7bb92fe",
   "metadata": {},
   "source": [
    "Таким образом\n",
    "$$\n",
    "x_1 = \\frac{4}{3} \\quad \\text{или} \\quad x_1 = -1.\n",
    "$$"
   ]
  },
  {
   "cell_type": "markdown",
   "id": "197e4c2f",
   "metadata": {},
   "source": [
    "Соответствующие значения  x_2\n",
    "$$\n",
    "x_2 = \\frac{x_1 + 1}{2}.\n",
    "$$"
   ]
  },
  {
   "cell_type": "markdown",
   "id": "afaa359b",
   "metadata": {},
   "source": [
    "Подставляя значения  x_1 \n",
    "$$\n",
    "\\text{1. Если } x_1 = \\frac{4}{3} \\text{, то  } x_2 = \\frac{\\frac{4}{3} + 1}{2} = \\frac{7}{6}\\\\\n",
    "\\text{2. Если } x_1 = -1 \\text{, то  }x_2 = \\frac{-1 + 1}{2} = 0\n",
    "$$"
   ]
  },
  {
   "cell_type": "markdown",
   "id": "5a5c204e",
   "metadata": {},
   "source": [
    "***Ответ***"
   ]
  },
  {
   "cell_type": "markdown",
   "id": "3b0f6415",
   "metadata": {},
   "source": [
    "Критические точки:\n",
    "$$\n",
    "x_c = \\left( \\frac{4}{3}, \\frac{7}{6} \\right) \\quad \\text{и} \\quad x_c = (-1, 0).\n",
    "$$"
   ]
  },
  {
   "cell_type": "markdown",
   "id": "4fbb9dee",
   "metadata": {},
   "source": [
    "***Задание 2.2***"
   ]
  },
  {
   "cell_type": "markdown",
   "id": "90a9e27e",
   "metadata": {},
   "source": [
    "Дана функция:\n",
    "$$\n",
    "f = \\ln(\\sqrt{x_1} + \\sqrt{x_2}),\n",
    "$$\n",
    "требуется доказать, что она удовлетворяет уравнению:\n",
    "$$\n",
    "x_1 \\frac{\\partial f}{\\partial x_1} + x_2 \\frac{\\partial f}{\\partial x_2} = \\frac{1}{2}.\n",
    "$$"
   ]
  },
  {
   "cell_type": "markdown",
   "id": "1db12395",
   "metadata": {},
   "source": [
    "1. Вычислим частную производную по x_1 \n",
    "$$\n",
    "f = \\ln(\\sqrt{x_1} + \\sqrt{x_2})\\\\\n",
    "\\text{продифференцируем по }x_1:\n",
    "\\frac{\\partial f}{\\partial x_1} = \\frac{1}{\\sqrt{x_1} + \\sqrt{x_2}} \\cdot \\frac{\\partial}{\\partial x_1} (\\sqrt{x_1} + \\sqrt{x_2} \\text{),  где}\n",
    "\\frac{\\partial}{\\partial x_1} (\\sqrt{x_1}) = \\frac{1}{2\\sqrt{x_1}}\\\\\n",
    "\\text{Таким образом:}\n",
    "\\frac{\\partial f}{\\partial x_1} = \\frac{1}{\\sqrt{x_1} + \\sqrt{x_2}} \\cdot \\frac{1}{2\\sqrt{x_1}} = \\frac{1}{2\\sqrt{x_1} (\\sqrt{x_1} + \\sqrt{x_2})}\n",
    "$$"
   ]
  },
  {
   "cell_type": "markdown",
   "id": "d3a2bba5",
   "metadata": {},
   "source": [
    "2. Вычислим частную производную по x_2\n",
    "$$\n",
    "\\frac{\\partial f}{\\partial x_2} = \\frac{1}{\\sqrt{x_1} + \\sqrt{x_2}} \\cdot \\frac{\\partial}{\\partial x_2} (\\sqrt{x_1} + \\sqrt{x_2}), \n",
    "\\text{ где}\n",
    "\\frac{\\partial}{\\partial x_2} (\\sqrt{x_2}) = \\frac{1}{2\\sqrt{x_2}}\\\\\n",
    "\\text{Таким образом:}\n",
    "\\frac{\\partial f}{\\partial x_2} = \\frac{1}{\\sqrt{x_1} + \\sqrt{x_2}} \\cdot \\frac{1}{2\\sqrt{x_2}} = \\frac{1}{2\\sqrt{x_2} (\\sqrt{x_1} + \\sqrt{x_2})}\n",
    "$$"
   ]
  },
  {
   "cell_type": "markdown",
   "id": "2691b186",
   "metadata": {},
   "source": [
    "3. Проверим уравнение\n",
    "$$\n",
    "\\text{Подставим найденные производные в уравнение: }\n",
    "x_1 \\frac{\\partial f}{\\partial x_1} + x_2 \\frac{\\partial f}{\\partial x_2}\\\\\n",
    "\\text{Для первого слагаемого: }\n",
    "x_1 \\frac{\\partial f}{\\partial x_1} = x_1 \\cdot \\frac{1}{2\\sqrt{x_1} (\\sqrt{x_1} + \\sqrt{x_2})} = \\frac{x_1}{2\\sqrt{x_1} (\\sqrt{x_1} + \\sqrt{x_2})}\\\\\n",
    "\\text{Упростим: }\n",
    "\\frac{x_1}{2\\sqrt{x_1} (\\sqrt{x_1} + \\sqrt{x_2})} = \\frac{\\sqrt{x_1}}{2 (\\sqrt{x_1} + \\sqrt{x_2})}\\\\\n",
    "\\text{Для второго слагаемого: }\n",
    "x_2 \\frac{\\partial f}{\\partial x_2} = x_2 \\cdot \\frac{1}{2\\sqrt{x_2} (\\sqrt{x_1} + \\sqrt{x_2})} = \\frac{x_2}{2\\sqrt{x_2} (\\sqrt{x_1} + \\sqrt{x_2})}\\\\\n",
    "\\text{Упростим: }\n",
    "\\frac{x_2}{2\\sqrt{x_2} (\\sqrt{x_1} + \\sqrt{x_2})} = \\frac{\\sqrt{x_2}}{2 (\\sqrt{x_1} + \\sqrt{x_2})}\\\\\n",
    "\\text{Сложим оба слагаемых: }\n",
    "x_1 \\frac{\\partial f}{\\partial x_1} + x_2 \\frac{\\partial f}{\\partial x_2} = \\frac{\\sqrt{x_1}}{2 (\\sqrt{x_1} + \\sqrt{x_2})} + \\frac{\\sqrt{x_2}}{2 (\\sqrt{x_1} + \\sqrt{x_2})}\\\\\n",
    "\\text{Общий знаменатель: }\n",
    "\\frac{\\sqrt{x_1} + \\sqrt{x_2}}{2 (\\sqrt{x_1} + \\sqrt{x_2})} = \\frac{1}{2}\n",
    "$$"
   ]
  },
  {
   "cell_type": "markdown",
   "id": "251f7a29",
   "metadata": {},
   "source": [
    "***Ответ***"
   ]
  },
  {
   "cell_type": "markdown",
   "id": "55f7a60d",
   "metadata": {},
   "source": [
    "$$\n",
    "\\text{Функция  }f = \\ln(\\sqrt{x_1} + \\sqrt{x_2})\\text{  действительно удовлетворяет уравнению: }\n",
    "x_1 \\frac{\\partial f}{\\partial x_1} + x_2 \\frac{\\partial f}{\\partial x_2} = \\frac{1}{2}\n",
    "$$"
   ]
  },
  {
   "cell_type": "markdown",
   "id": "111d374a",
   "metadata": {},
   "source": [
    "***Задание 2.3***"
   ]
  },
  {
   "cell_type": "markdown",
   "id": "3d30b43c",
   "metadata": {},
   "source": [
    "$$\n",
    "\\text{Задана функция  f: }\\mathbb{R}^3 \\to \\mathbb{R} : f(x, y, z) = x + y + z + (xyz)^2\\\\\n",
    "\\\\\n",
    "\\text{Требуется:}\\\\\n",
    "\\text{1. Найти вектор градиента функции  }\\nabla f\\\\\n",
    "\\text{2. Вычислить численное значение градиента в точке  }v = (1, 2, 3)^\\top\n",
    "$$"
   ]
  },
  {
   "cell_type": "markdown",
   "id": "ba9575f8",
   "metadata": {},
   "source": [
    "1. Вычислим частные производные функции  f:\n",
    "$$\n",
    "\\text{Частная производная по  x: }\n",
    "\\frac{\\partial f}{\\partial x} = \\frac{\\partial}{\\partial x} \\left( x + y + z + (xyz)^2 \\right) = 1 + \\frac{\\partial}{\\partial x} \\left( (xyz)^2 \\right)\\\\\n",
    "\\text{Используем правило цепочки: }\n",
    "\\frac{\\partial}{\\partial x} \\left( (xyz)^2 \\right) = 2(xyz) \\cdot \\frac{\\partial}{\\partial x}(xyz)\n",
    "\\text{, где}\n",
    "\\frac{\\partial}{\\partial x}(xyz) = yz\\\\\n",
    "\\text{Тогда: }\n",
    "\\frac{\\partial f}{\\partial x} = 1 + 2(xyz)(yz)\\\\\n",
    "\\text{Частная производная по  y: }\n",
    "\\frac{\\partial f}{\\partial y} = \\frac{\\partial}{\\partial y} \\left( x + y + z + (xyz)^2 \\right) = 1 + 2(xyz)(xz)\\\\\n",
    "\\text{Частная производная по  z: }\n",
    "\\frac{\\partial f}{\\partial z} = \\frac{\\partial}{\\partial z} \\left( x + y + z + (xyz)^2 \\right) = 1 + 2(xyz)(xy)\n",
    "$$"
   ]
  },
  {
   "cell_type": "markdown",
   "id": "4745f23f",
   "metadata": {},
   "source": [
    "2. Вектор градиента:\n",
    "$$\n",
    "\\nabla f(x, y, z) = \\begin{pmatrix}\n",
    "\\frac{\\partial f}{\\partial x} \\\\\n",
    "\\frac{\\partial f}{\\partial y} \\\\\n",
    "\\frac{\\partial f}{\\partial z}\n",
    "\\end{pmatrix} = \\begin{pmatrix}\n",
    "1 + 2(xyz)(yz) \\\\\n",
    "1 + 2(xyz)(xz) \\\\\n",
    "1 + 2(xyz)(xy)\n",
    "\\end{pmatrix}\n",
    "$$"
   ]
  },
  {
   "cell_type": "markdown",
   "id": "f146bb28",
   "metadata": {},
   "source": [
    "3. Численное значение градиента в точке\n",
    "$$\n",
    "\\text{Подставим  x = 1 ,  y = 2 ,  z = 3: }\n",
    "xyz = 1 \\cdot 2 \\cdot 3 = 6\\\\\n",
    "\\text{Вычислим частные производные: }\\\\\n",
    "\\text{Для  }\\frac{\\partial f}{\\partial x}:\n",
    "\\frac{\\partial f}{\\partial x} = 1 + 2(6)(2 \\cdot 3) = 1 + 2(6)(6) = 1 + 72 = 73\\\\\n",
    "\\text{Для  }\\frac{\\partial f}{\\partial y} :\n",
    "\\frac{\\partial f}{\\partial y} = 1 + 2(6)(1 \\cdot 3) = 1 + 2(6)(3) = 1 + 36 = 37\\\\\n",
    "\\text{Для  }\\frac{\\partial f}{\\partial z}:\n",
    "\\frac{\\partial f}{\\partial z} = 1 + 2(6)(1 \\cdot 2) = 1 + 2(6)(2) = 1 + 24 = 25\\\\\n",
    "\\text{Численное значение градиента: }\n",
    "\\nabla f(1, 2, 3) = \\begin{pmatrix}\n",
    "73 \\\\\n",
    "37 \\\\\n",
    "25\n",
    "\\end{pmatrix}\n",
    "$$"
   ]
  },
  {
   "cell_type": "markdown",
   "id": "c0806f91",
   "metadata": {},
   "source": [
    "***Ответ***"
   ]
  },
  {
   "cell_type": "markdown",
   "id": "4ce58e75",
   "metadata": {},
   "source": [
    "$$\n",
    "\\text{1. Вектор градиента функции: }\n",
    "\\nabla f(x, y, z) = \\begin{pmatrix}\n",
    "1 + 2(xyz)(yz) \\\\\n",
    "1 + 2(xyz)(xz) \\\\\n",
    "1 + 2(xyz)(xy)\n",
    "\\end{pmatrix}\\\\\n",
    "\\text{2. Численное значение в точке  }v = (1, 2, 3)^\\top :\n",
    "\\nabla f(1, 2, 3) = \\begin{pmatrix}\n",
    "73 \\\\\n",
    "37 \\\\\n",
    "25\n",
    "\\end{pmatrix}\n",
    "$$"
   ]
  },
  {
   "cell_type": "markdown",
   "id": "5ea543f4",
   "metadata": {},
   "source": [
    "***Задача 2.4***"
   ]
  },
  {
   "cell_type": "markdown",
   "id": "9f6b45f4",
   "metadata": {},
   "source": [
    "$$\n",
    "\\text{Дана функция: }\n",
    "f(x) = \\frac{1}{3} \\|x\\|_2^3, \\quad x \\in \\mathbb{R}^n \\setminus \\{0\\} \n",
    "\\text{, где  }\\|x\\|_2 = \\sqrt{x_1^2 + x_2^2 + \\dots + x_n^2}\n",
    "\\text{ — евклидова норма вектора  x}\\\\\n",
    "\\\\\n",
    "\\text{Требуется:}\\\\\n",
    "\\text{1. Найти первый дифференциал  }df(x)\\\\\n",
    "\\text{2. Найти градиент  }\\nabla f(x)\n",
    "$$"
   ]
  },
  {
   "cell_type": "markdown",
   "id": "2dc62ad6",
   "metadata": {},
   "source": [
    "1. Выражение для дифференциала\n",
    "$$\n",
    "\\text{Дифференциал функции  f(x)  определяется как: }\n",
    "df(x) = \\nabla f(x) \\cdot dx\n",
    "\\text{, где  }\n",
    "\\nabla f(x)\n",
    "\\text{ — градиент функции  f(x)}\\\\\n",
    "\\text{Выразим функцию  f(x)  через норму: }\n",
    "f(x) = \\frac{1}{3} \\|x\\|_2^3\\\\\n",
    "\\text{Частные производные  f(x)  найдем с использованием правила цепочки: }\\\\\n",
    "\\frac{\\partial f}{\\partial x_i} = \\frac{\\partial}{\\partial x_i} \\left( \\frac{1}{3} \\|x\\|_2^3 \\right) = \\|x\\|_2^2 \\cdot \\frac{\\partial \\|x\\|_2}{\\partial x_i}\n",
    "\\text{, где}\n",
    "\\frac{\\partial \\|x\\|_2}{\\partial x_i} = \\frac{x_i}{\\|x\\|_2}\\\\\n",
    "\\text{Таким образом: }\n",
    "\\frac{\\partial f}{\\partial x_i} = \\|x\\|_2^2 \\cdot \\frac{x_i}{\\|x\\|_2} = \\|x\\|_2 \\cdot x_i.\n",
    "$$"
   ]
  },
  {
   "cell_type": "markdown",
   "id": "0667d7e4",
   "metadata": {},
   "source": [
    "2. Градиент функции\n",
    "$$\n",
    "\\text{Градиент  } \\nabla f(x) \\text{ — это вектор, состоящий из частных производных:}\n",
    "\\nabla f(x) = \\begin{pmatrix}\n",
    "\\frac{\\partial f}{\\partial x_1} \\\\\n",
    "\\frac{\\partial f}{\\partial x_2} \\\\\n",
    "\\vdots \\\\\n",
    "\\frac{\\partial f}{\\partial x_n}\n",
    "\\end{pmatrix}\\\\\n",
    "\\text{Подставляя вычисленные частные производные: }\n",
    "\\nabla f(x) = \\|x\\|_2 \\cdot x\n",
    "$$"
   ]
  },
  {
   "cell_type": "markdown",
   "id": "d4e7b717",
   "metadata": {},
   "source": [
    "3. Дифференциал\n",
    "$$\n",
    "\\text{Используя выражение для градиента, дифференциал функции: }\n",
    "df(x) = \\nabla f(x) \\cdot dx = \\|x\\|_2 \\cdot x^\\top dx\n",
    "$$"
   ]
  },
  {
   "cell_type": "markdown",
   "id": "ceea7df9",
   "metadata": {},
   "source": [
    "***Ответ***"
   ]
  },
  {
   "cell_type": "markdown",
   "id": "cc5886da",
   "metadata": {},
   "source": [
    "$$\n",
    "\\text{1. Первый дифференциал: }\n",
    "df(x) = \\|x\\|_2 \\cdot x^\\top dx\\\\\n",
    "\\text{2. Градиент функции: }\n",
    "\\nabla f(x) = \\|x\\|_2 \\cdot x\n",
    "$$"
   ]
  },
  {
   "cell_type": "markdown",
   "id": "ff0a66b0",
   "metadata": {},
   "source": [
    "***Задача 2.5***"
   ]
  },
  {
   "cell_type": "markdown",
   "id": "b76ffa75",
   "metadata": {},
   "source": [
    "$$\n",
    "\\text{Задана функция: }\n",
    "f(x) = \\|Ax\\|_2^2, \\quad x \\in \\mathbb{R}^n \\setminus \\{0\\}, \\quad A \\in \\mathbb{R}^{m \\times n}\\\\\n",
    "\\\\\n",
    "\\text{Требуется: }\\\\\n",
    "\\text{1. Найти первый дифференциал }df(x)\\\\\n",
    "\\text{2. Найти градиент }\\nabla f(x)\n",
    "$$"
   ]
  },
  {
   "cell_type": "markdown",
   "id": "de4ada05",
   "metadata": {},
   "source": [
    "1. Выражение функции\n",
    "$$\n",
    "\\text{Квадрат евклидовой нормы вектора  Ax  можно записать как: }\n",
    "f(x) = \\|Ax\\|_2^2 = (Ax)^\\top (Ax)\n",
    "$$"
   ]
  },
  {
   "cell_type": "markdown",
   "id": "24274fe9",
   "metadata": {},
   "source": [
    "2. Найдем дифференциал\n",
    "$$\n",
    "\\text{Для вычисления дифференциала воспользуемся правилом производной для квадратичной формы.}\\\\\n",
    "\\text{Пусть }y = Ax\n",
    "\\text{, тогда:}\n",
    "\\frac{\\partial}{\\partial x} \\|y\\|_2^2 = 2A^\\top y\\\\\n",
    "\\text{Теперь: }\n",
    "df(x) = 2(Ax)^\\top A dx\n",
    "$$"
   ]
  },
  {
   "cell_type": "markdown",
   "id": "c613bae1",
   "metadata": {},
   "source": [
    "3. Градиент\n",
    "$$\n",
    "\\nabla f(x) = 2A^\\top (Ax).\n",
    "$$"
   ]
  },
  {
   "cell_type": "markdown",
   "id": "6aa6b463",
   "metadata": {},
   "source": [
    "***Ответ***"
   ]
  },
  {
   "cell_type": "markdown",
   "id": "1fab7b91",
   "metadata": {},
   "source": [
    "$$\n",
    "\\text{1. Первый дифференциал: }\n",
    "df(x) = 2(Ax)^\\top A dx\\\\\n",
    "\\text{2. Градиент функции: }\n",
    "\\nabla f(x) = 2A^\\top (Ax)\n",
    "$$"
   ]
  }
 ],
 "metadata": {
  "kernelspec": {
   "display_name": "Python 3 (ipykernel)",
   "language": "python",
   "name": "python3"
  },
  "language_info": {
   "codemirror_mode": {
    "name": "ipython",
    "version": 3
   },
   "file_extension": ".py",
   "mimetype": "text/x-python",
   "name": "python",
   "nbconvert_exporter": "python",
   "pygments_lexer": "ipython3",
   "version": "3.9.7"
  }
 },
 "nbformat": 4,
 "nbformat_minor": 5
}
